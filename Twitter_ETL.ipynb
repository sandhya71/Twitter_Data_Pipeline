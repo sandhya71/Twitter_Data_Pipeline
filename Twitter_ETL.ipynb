{
  "nbformat": 4,
  "nbformat_minor": 0,
  "metadata": {
    "colab": {
      "provenance": []
    },
    "kernelspec": {
      "name": "python3",
      "display_name": "Python 3"
    },
    "language_info": {
      "name": "python"
    }
  },
  "cells": [
    {
      "cell_type": "code",
      "execution_count": 60,
      "metadata": {
        "id": "c2kpIW2mWzNy"
      },
      "outputs": [],
      "source": [
        "\n",
        "import tweepy\n",
        "import pandas as pd\n",
        "import json\n",
        "from datetime import datetime\n",
        "import s3fs\n",
        "\n",
        "def run_twitter_etl():\n",
        "\n",
        "       access_key = "" 
                access_secret = "" 
                consumer_key = ""
                consumer_secret = ""
        "    # Create the OAuthHandler object\n",
        "    auth = tweepy.OAuthHandler(consumer_key, consumer_secret)\n",
        "\n",
        "# Set the access token and access token secret\n",
        "    auth.set_access_token(access_key, access_secret)\n",
        "    api = tweepy.API(auth)\n",
        "\n",
        "    # Get tweets from a specific user\n",
        "    tweets = api.user_timeline(screen_name='@MercedesBenzInd',\n",
        "                            # 200 is the maximum allowed count\n",
        "                            count=200,\n",
        "                            include_rts = False,\n",
        "                            # Necessary to keep full_text\n",
        "                            # otherwise only the first 140 words are extracted\n",
        "                            tweet_mode = 'extended')\n",
        "\n",
        "    list = []\n",
        "    for tweet in tweets:\n",
        "        text = tweet._json[\"full_text\"]\n",
        "\n",
        "        refined_tweet = {\"user\": tweet.user.screen_name,\n",
        "                        'text' : text,\n",
        "                        'favorite_count' : tweet.favorite_count,\n",
        "                        'retweet_count' : tweet.retweet_count,\n",
        "                        'created_at' : tweet.created_at}\n",
        "\n",
        "        list.append(refined_tweet)\n",
        "\n",
        "    df = pd.DataFrame(list)\n",
        "    df.to_csv('refined_tweets.csv')\n",
        "    # Replace \"refined_tweets.csv\" with your actual file name\n",
        "    df = pd.read_csv(\"refined_tweets.csv\")\n",
        "    print(df)\n"
      ]
    }
  ]
}
